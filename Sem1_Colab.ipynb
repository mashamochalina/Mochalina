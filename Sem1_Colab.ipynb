{
  "nbformat": 4,
  "nbformat_minor": 0,
  "metadata": {
    "colab": {
      "name": "Добро пожаловать в Colaboratory!",
      "provenance": [],
      "collapsed_sections": [],
      "toc_visible": true,
      "include_colab_link": true
    },
    "kernelspec": {
      "display_name": "Python 3",
      "name": "python3"
    }
  },
  "cells": [
    {
      "cell_type": "markdown",
      "metadata": {
        "id": "view-in-github",
        "colab_type": "text"
      },
      "source": [
        "<a href=\"https://colab.research.google.com/github/mashamochalina/Mochalina/blob/master/Sem1_Colab.ipynb\" target=\"_parent\"><img src=\"https://colab.research.google.com/assets/colab-badge.svg\" alt=\"Open In Colab\"/></a>"
      ]
    },
    {
      "cell_type": "markdown",
      "metadata": {
        "id": "B6SjNU3y_H2t"
      },
      "source": [
        "# GitHub\r\n",
        "\r\n",
        "---\r\n",
        "\r\n",
        "> First commit\r\n"
      ]
    },
    {
      "cell_type": "code",
      "metadata": {
        "colab": {
          "base_uri": "https://localhost:8080/"
        },
        "id": "EQ1cOuwTAiSL",
        "outputId": "926a7172-69ff-4a1c-f2ed-0ba563eecd05"
      },
      "source": [
        "!git clone https://github.com/ar0usel/cvr_course"
      ],
      "execution_count": null,
      "outputs": [
        {
          "output_type": "stream",
          "text": [
            "Cloning into 'cvr_course'...\n",
            "remote: Enumerating objects: 157, done.\u001b[K\n",
            "remote: Total 157 (delta 0), reused 0 (delta 0), pack-reused 157\u001b[K\n",
            "Receiving objects: 100% (157/157), 29.38 MiB | 36.21 MiB/s, done.\n",
            "Resolving deltas: 100% (32/32), done.\n"
          ],
          "name": "stdout"
        }
      ]
    },
    {
      "cell_type": "code",
      "metadata": {
        "colab": {
          "base_uri": "https://localhost:8080/"
        },
        "id": "SIQhz6qfBdm6",
        "outputId": "8f0d7953-c4cf-4809-cca6-f2840f74a713"
      },
      "source": [
        "cd cvr_course"
      ],
      "execution_count": null,
      "outputs": [
        {
          "output_type": "stream",
          "text": [
            "/content/cvr_course\n"
          ],
          "name": "stdout"
        }
      ]
    },
    {
      "cell_type": "code",
      "metadata": {
        "colab": {
          "base_uri": "https://localhost:8080/"
        },
        "id": "HRsmxxafBr8m",
        "outputId": "2f452ebe-d6e8-4616-cf1d-f5172db76d43"
      },
      "source": [
        "!cat README.md"
      ],
      "execution_count": null,
      "outputs": [
        {
          "output_type": "stream",
          "text": [
            "# Computer Vision in Robotics\n",
            "\n",
            "<img src=\"./.img/logo_for_form.png\" height=\"350\" />\n",
            "\n",
            "\n",
            "Visit our site <https://www.starkitrobots.com/cvr> to check content.\n",
            "Course is online and will be carried out on our *[YouTube chanel](https://www.youtube.com/channel/UC0QPJgfg17wCqf4-hG_A5OA)*.\n"
          ],
          "name": "stdout"
        }
      ]
    },
    {
      "cell_type": "code",
      "metadata": {
        "id": "737whq0cByXA"
      },
      "source": [
        "!echo \"You are welcome!\" >> README.md"
      ],
      "execution_count": null,
      "outputs": []
    },
    {
      "cell_type": "code",
      "metadata": {
        "colab": {
          "base_uri": "https://localhost:8080/"
        },
        "id": "xouhGyKICYLR",
        "outputId": "cb097169-f7f8-4e3d-cc09-31ef61f3c7c6"
      },
      "source": [
        "!cat README.md"
      ],
      "execution_count": null,
      "outputs": [
        {
          "output_type": "stream",
          "text": [
            "# Computer Vision in Robotics\n",
            "\n",
            "<img src=\"./.img/logo_for_form.png\" height=\"350\" />\n",
            "\n",
            "\n",
            "Visit our site <https://www.starkitrobots.com/cvr> to check content.\n",
            "Course is online and will be carried out on our *[YouTube chanel](https://www.youtube.com/channel/UC0QPJgfg17wCqf4-hG_A5OA)*.\n",
            "You are welcome!!\n",
            "You are welcome!!\n",
            "You are welcome!\n",
            "You are welcome!\n",
            "You are welcome!\n",
            "You are welcome!\n"
          ],
          "name": "stdout"
        }
      ]
    },
    {
      "cell_type": "code",
      "metadata": {
        "colab": {
          "base_uri": "https://localhost:8080/"
        },
        "id": "hAvs0EgIChMY",
        "outputId": "100744a6-232c-45e6-ef22-567667a59a09"
      },
      "source": [
        "!git status"
      ],
      "execution_count": null,
      "outputs": [
        {
          "output_type": "stream",
          "text": [
            "On branch main\n",
            "Your branch is up to date with 'origin/main'.\n",
            "\n",
            "Changes not staged for commit:\n",
            "  (use \"git add <file>...\" to update what will be committed)\n",
            "  (use \"git checkout -- <file>...\" to discard changes in working directory)\n",
            "\n",
            "\t\u001b[31mmodified:   README.md\u001b[m\n",
            "\n",
            "no changes added to commit (use \"git add\" and/or \"git commit -a\")\n"
          ],
          "name": "stdout"
        }
      ]
    },
    {
      "cell_type": "code",
      "metadata": {
        "id": "FYehMTrMCmIX"
      },
      "source": [
        "!git add README.md"
      ],
      "execution_count": null,
      "outputs": []
    },
    {
      "cell_type": "code",
      "metadata": {
        "colab": {
          "base_uri": "https://localhost:8080/"
        },
        "id": "QG7B3QRZDdO_",
        "outputId": "77a5fc52-a358-40d6-8a09-edbca35f3f33"
      },
      "source": [
        "!git status"
      ],
      "execution_count": null,
      "outputs": [
        {
          "output_type": "stream",
          "text": [
            "On branch main\n",
            "Your branch is up to date with 'origin/main'.\n",
            "\n",
            "Changes to be committed:\n",
            "  (use \"git reset HEAD <file>...\" to unstage)\n",
            "\n",
            "\t\u001b[32mmodified:   README.md\u001b[m\n",
            "\n"
          ],
          "name": "stdout"
        }
      ]
    },
    {
      "cell_type": "code",
      "metadata": {
        "colab": {
          "base_uri": "https://localhost:8080/"
        },
        "id": "N3jFWhwoDje5",
        "outputId": "b5df00e3-e904-42c1-8348-b0af52ca145a"
      },
      "source": [
        "!git reset"
      ],
      "execution_count": null,
      "outputs": [
        {
          "output_type": "stream",
          "text": [
            "Unstaged changes after reset:\n",
            "M\tREADME.md\n"
          ],
          "name": "stdout"
        }
      ]
    },
    {
      "cell_type": "code",
      "metadata": {
        "colab": {
          "base_uri": "https://localhost:8080/"
        },
        "id": "WeqxgLt1DyjX",
        "outputId": "8bcf56c4-c57c-4f54-c118-304ffd97b146"
      },
      "source": [
        "!git status"
      ],
      "execution_count": null,
      "outputs": [
        {
          "output_type": "stream",
          "text": [
            "On branch main\n",
            "Your branch is up to date with 'origin/main'.\n",
            "\n",
            "Changes not staged for commit:\n",
            "  (use \"git add <file>...\" to update what will be committed)\n",
            "  (use \"git checkout -- <file>...\" to discard changes in working directory)\n",
            "\n",
            "\t\u001b[31mmodified:   README.md\u001b[m\n",
            "\n",
            "no changes added to commit (use \"git add\" and/or \"git commit -a\")\n"
          ],
          "name": "stdout"
        }
      ]
    },
    {
      "cell_type": "code",
      "metadata": {
        "id": "hXHXy9y1D1w4"
      },
      "source": [
        "!git add *"
      ],
      "execution_count": null,
      "outputs": []
    },
    {
      "cell_type": "code",
      "metadata": {
        "colab": {
          "base_uri": "https://localhost:8080/"
        },
        "id": "tEpxM5A2D6C_",
        "outputId": "fe92f449-8abf-49a3-fd4a-180e45fe221c"
      },
      "source": [
        "!git status"
      ],
      "execution_count": null,
      "outputs": [
        {
          "output_type": "stream",
          "text": [
            "On branch main\n",
            "Your branch is up to date with 'origin/main'.\n",
            "\n",
            "Changes to be committed:\n",
            "  (use \"git reset HEAD <file>...\" to unstage)\n",
            "\n",
            "\t\u001b[32mmodified:   README.md\u001b[m\n",
            "\n"
          ],
          "name": "stdout"
        }
      ]
    },
    {
      "cell_type": "code",
      "metadata": {
        "colab": {
          "base_uri": "https://localhost:8080/"
        },
        "id": "a5kJy7cOD893",
        "outputId": "0107de8e-191f-476e-e669-b2edffe9f843"
      },
      "source": [
        "!git commit -m \"Update README\""
      ],
      "execution_count": null,
      "outputs": [
        {
          "output_type": "stream",
          "text": [
            "\n",
            "*** Please tell me who you are.\n",
            "\n",
            "Run\n",
            "\n",
            "  git config --global user.email \"you@example.com\"\n",
            "  git config --global user.name \"Your Name\"\n",
            "\n",
            "to set your account's default identity.\n",
            "Omit --global to set the identity only in this repository.\n",
            "\n",
            "fatal: unable to auto-detect email address (got 'root@06805e676723.(none)')\n"
          ],
          "name": "stdout"
        }
      ]
    },
    {
      "cell_type": "code",
      "metadata": {
        "id": "_VRBCDYhES3n"
      },
      "source": [
        "!git config --global user.email \"mary.mochalina@gmail.com\"\r\n",
        "!git config --global user.name \"Mary Mochalina\""
      ],
      "execution_count": null,
      "outputs": []
    },
    {
      "cell_type": "code",
      "metadata": {
        "colab": {
          "base_uri": "https://localhost:8080/"
        },
        "id": "TwtGEF0TG30X",
        "outputId": "69d56f3c-a611-4cff-8912-72203b537f5f"
      },
      "source": [
        "!git commit -m \"Update README\""
      ],
      "execution_count": null,
      "outputs": [
        {
          "output_type": "stream",
          "text": [
            "[main 0d6ba03] Update README\n",
            " 1 file changed, 6 insertions(+)\n"
          ],
          "name": "stdout"
        }
      ]
    },
    {
      "cell_type": "code",
      "metadata": {
        "colab": {
          "base_uri": "https://localhost:8080/"
        },
        "id": "g7xQStuOG7dk",
        "outputId": "061d6fa2-92b9-4ae8-a41d-f4b4a7d665ab"
      },
      "source": [
        "ls .git"
      ],
      "execution_count": null,
      "outputs": [
        {
          "output_type": "stream",
          "text": [
            "\u001b[0m\u001b[01;34mbranches\u001b[0m/       config       HEAD    index  \u001b[01;34mlogs\u001b[0m/     ORIG_HEAD    \u001b[01;34mrefs\u001b[0m/\n",
            "COMMIT_EDITMSG  description  \u001b[01;34mhooks\u001b[0m/  \u001b[01;34minfo\u001b[0m/  \u001b[01;34mobjects\u001b[0m/  packed-refs\n"
          ],
          "name": "stdout"
        }
      ]
    },
    {
      "cell_type": "code",
      "metadata": {
        "colab": {
          "base_uri": "https://localhost:8080/"
        },
        "id": "TrO6IsChHBpC",
        "outputId": "9094aeb0-cf27-4343-ddb4-f886e29112aa"
      },
      "source": [
        "!git reset HEAD^1"
      ],
      "execution_count": null,
      "outputs": [
        {
          "output_type": "stream",
          "text": [
            "Unstaged changes after reset:\n",
            "M\tREADME.md\n"
          ],
          "name": "stdout"
        }
      ]
    },
    {
      "cell_type": "code",
      "metadata": {
        "colab": {
          "base_uri": "https://localhost:8080/"
        },
        "id": "iVOcX2o6HqRe",
        "outputId": "3dd9b3b1-5620-4def-ef0e-360efad228d1"
      },
      "source": [
        "!git status"
      ],
      "execution_count": null,
      "outputs": [
        {
          "output_type": "stream",
          "text": [
            "On branch main\n",
            "Your branch is up to date with 'origin/main'.\n",
            "\n",
            "Changes not staged for commit:\n",
            "  (use \"git add <file>...\" to update what will be committed)\n",
            "  (use \"git checkout -- <file>...\" to discard changes in working directory)\n",
            "\n",
            "\t\u001b[31mmodified:   README.md\u001b[m\n",
            "\n",
            "no changes added to commit (use \"git add\" and/or \"git commit -a\")\n"
          ],
          "name": "stdout"
        }
      ]
    },
    {
      "cell_type": "code",
      "metadata": {
        "colab": {
          "base_uri": "https://localhost:8080/"
        },
        "id": "Brx1PB8NHuo2",
        "outputId": "50eb2b51-3b9d-4b9d-a1e9-7d39344ef813"
      },
      "source": [
        "!git add .\r\n",
        "!git commit -m \"Update README.md\""
      ],
      "execution_count": null,
      "outputs": [
        {
          "output_type": "stream",
          "text": [
            "[main bdbc09e] Update README.md\n",
            " 1 file changed, 6 insertions(+)\n"
          ],
          "name": "stdout"
        }
      ]
    },
    {
      "cell_type": "code",
      "metadata": {
        "id": "kjoUlmmzH79b"
      },
      "source": [
        ""
      ],
      "execution_count": null,
      "outputs": []
    },
    {
      "cell_type": "markdown",
      "metadata": {
        "id": "9eaEjEL8VM1v"
      },
      "source": [
        "#First push\r\n",
        "\r\n",
        "Синхронизация локального и удаленного репозитория\r\n",
        "\r\n",
        "\r\n",
        "*   git push \r\n",
        "*   git pull\r\n",
        "*   git remote add - добавляет удаленные репозитории\r\n",
        "*   git remote add origin-psk https:   \r\n",
        "\r\n"
      ]
    },
    {
      "cell_type": "markdown",
      "metadata": {
        "id": "N6uD8cjkSM1c"
      },
      "source": [
        "#First Branch\r\n",
        "Создание новых веток\r\n",
        "\r\n",
        "*   git checkout - перенос HEAD на другую ветку или commit\r\n",
        "*   git branch - создание ветки\r\n",
        "*   git fetch - подгрузка инф об удаленном репозитории\r\n",
        "\r\n",
        "\r\n",
        "\r\n",
        "\r\n",
        "\r\n",
        "\r\n"
      ]
    },
    {
      "cell_type": "code",
      "metadata": {
        "id": "rpXD3yWJTGXh"
      },
      "source": [
        "!git branch test"
      ],
      "execution_count": null,
      "outputs": []
    },
    {
      "cell_type": "code",
      "metadata": {
        "id": "L9bW_EFLTNFp"
      },
      "source": [
        "!git log"
      ],
      "execution_count": null,
      "outputs": []
    },
    {
      "cell_type": "code",
      "metadata": {
        "colab": {
          "base_uri": "https://localhost:8080/"
        },
        "id": "FGwAsP-9TUmP",
        "outputId": "ea99e279-ee5b-4f08-be93-6da3311a71a7"
      },
      "source": [
        "!git checkout test"
      ],
      "execution_count": null,
      "outputs": [
        {
          "output_type": "stream",
          "text": [
            "Switched to branch 'test'\n"
          ],
          "name": "stdout"
        }
      ]
    },
    {
      "cell_type": "code",
      "metadata": {
        "id": "twrWI4heTuV4"
      },
      "source": [
        "!echo \"U r welcome!\" >> README.md"
      ],
      "execution_count": null,
      "outputs": []
    },
    {
      "cell_type": "code",
      "metadata": {
        "colab": {
          "base_uri": "https://localhost:8080/"
        },
        "id": "zqooiIcmUscH",
        "outputId": "235efdb9-91ff-41ac-bd94-cfcccc27a167"
      },
      "source": [
        "!git add README.md\r\n",
        "!git commit -m \"Update README.md\"\r\n",
        "!git push origin-psk test"
      ],
      "execution_count": null,
      "outputs": [
        {
          "output_type": "stream",
          "text": [
            "[test ead707a] Update README.md\n",
            " 1 file changed, 1 insertion(+)\n",
            "fatal: 'origin-psk' does not appear to be a git repository\n",
            "fatal: Could not read from remote repository.\n",
            "\n",
            "Please make sure you have the correct access rights\n",
            "and the repository exists.\n"
          ],
          "name": "stdout"
        }
      ]
    },
    {
      "cell_type": "markdown",
      "metadata": {
        "id": "3NzhnGTQWzmd"
      },
      "source": [
        "#First merge\r\n"
      ]
    },
    {
      "cell_type": "code",
      "metadata": {
        "colab": {
          "base_uri": "https://localhost:8080/"
        },
        "id": "LspQao6jW5Oe",
        "outputId": "b7a33492-6ce6-4b79-deb3-6a4aff365d74"
      },
      "source": [
        "! git checkout develop"
      ],
      "execution_count": null,
      "outputs": [
        {
          "output_type": "stream",
          "text": [
            "Branch 'develop' set up to track remote branch 'develop' from 'origin'.\n",
            "Switched to a new branch 'develop'\n"
          ],
          "name": "stdout"
        }
      ]
    }
  ]
}